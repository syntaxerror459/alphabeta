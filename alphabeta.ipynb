{
 "cells": [
  {
   "cell_type": "code",
   "execution_count": 1,
   "metadata": {},
   "outputs": [
    {
     "name": "stdout",
     "output_type": "stream",
     "text": [
      "The optimal value (using alpha-beta pruning) is : 5\n"
     ]
    }
   ],
   "source": [
    "import math\n",
    "MAX, MIN = 1000, -1000\n",
    "\n",
    "def minimax(node, depth, max_turn ,scores,tree_depth, alpha, beta): \n",
    "    if depth == tree_depth:\n",
    "        return scores[node]\n",
    "    if max_turn:\n",
    "        best = MIN\n",
    "        for i in range(0, 2):\n",
    "            val = minimax(node * 2 + i, depth + 1, False, scores, tree_depth, alpha, beta)\n",
    "            best = max(best, val)\n",
    "            alpha = max(alpha, best) \n",
    "            if beta <= alpha:\n",
    "                break\n",
    "        return best\n",
    "    else:\n",
    "        best = MAX\n",
    "        for i in range(0, 2):\n",
    "            val = minimax(node * 2 + i, depth + 1, True, scores, tree_depth, alpha, beta)\n",
    "            best = min(best, val)\n",
    "            beta = min(beta, best)\n",
    "            if beta <= alpha:\n",
    "                    break\n",
    "        return best\n",
    "if __name__ == \"__main__\":\n",
    "    scores = [3, 5, 6, 9, 1, 2, 0, -1]\n",
    "    tree_depth = math.log(len(scores), 2)\n",
    "    print(\"The optimal value (using alpha-beta pruning) is :\",\n",
    "        minimax(0, 0, True, scores, tree_depth,MIN,MAX)\n",
    "    )"
   ]
  },
  {
   "cell_type": "code",
   "execution_count": null,
   "metadata": {},
   "outputs": [],
   "source": []
  }
 ],
 "metadata": {
  "kernelspec": {
   "display_name": "Python 3.9.13 ('base')",
   "language": "python",
   "name": "python3"
  },
  "language_info": {
   "codemirror_mode": {
    "name": "ipython",
    "version": 3
   },
   "file_extension": ".py",
   "mimetype": "text/x-python",
   "name": "python",
   "nbconvert_exporter": "python",
   "pygments_lexer": "ipython3",
   "version": "3.9.13"
  },
  "orig_nbformat": 4,
  "vscode": {
   "interpreter": {
    "hash": "5b30f736e45932896a1a27b0973802247d41f5c6dfddee68ac14f4b5531b8d9e"
   }
  }
 },
 "nbformat": 4,
 "nbformat_minor": 2
}
